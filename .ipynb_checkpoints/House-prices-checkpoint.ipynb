{
 "cells": [
  {
   "cell_type": "markdown",
   "metadata": {},
   "source": [
    "# Introduction to Dataset"
   ]
  },
  {
   "cell_type": "code",
   "execution_count": 98,
   "metadata": {},
   "outputs": [],
   "source": [
    "# Import required classes\n",
    "import numpy as np\n",
    "import pandas as pd\n",
    "import matplotlib.pyplot as plt\n",
    "from sklearn.metrics import mean_squared_error\n",
    "from sklearn.linear_model import LinearRegression\n",
    "%matplotlib inline\n",
    "import seaborn as sns\n",
    "from sklearn.model_selection import KFold\n",
    "from sklearn.model_selection import cross_val_score"
   ]
  },
  {
   "cell_type": "code",
   "execution_count": 52,
   "metadata": {},
   "outputs": [
    {
     "data": {
      "text/html": [
       "<div>\n",
       "<table border=\"1\" class=\"dataframe\">\n",
       "  <thead>\n",
       "    <tr style=\"text-align: right;\">\n",
       "      <th></th>\n",
       "      <th>Order</th>\n",
       "      <th>PID</th>\n",
       "      <th>MS SubClass</th>\n",
       "      <th>MS Zoning</th>\n",
       "      <th>Lot Frontage</th>\n",
       "      <th>Lot Area</th>\n",
       "      <th>Street</th>\n",
       "      <th>Alley</th>\n",
       "      <th>Lot Shape</th>\n",
       "      <th>Land Contour</th>\n",
       "      <th>...</th>\n",
       "      <th>Pool Area</th>\n",
       "      <th>Pool QC</th>\n",
       "      <th>Fence</th>\n",
       "      <th>Misc Feature</th>\n",
       "      <th>Misc Val</th>\n",
       "      <th>Mo Sold</th>\n",
       "      <th>Yr Sold</th>\n",
       "      <th>Sale Type</th>\n",
       "      <th>Sale Condition</th>\n",
       "      <th>SalePrice</th>\n",
       "    </tr>\n",
       "  </thead>\n",
       "  <tbody>\n",
       "    <tr>\n",
       "      <th>0</th>\n",
       "      <td>1</td>\n",
       "      <td>526301100</td>\n",
       "      <td>20</td>\n",
       "      <td>RL</td>\n",
       "      <td>141.0</td>\n",
       "      <td>31770</td>\n",
       "      <td>Pave</td>\n",
       "      <td>NaN</td>\n",
       "      <td>IR1</td>\n",
       "      <td>Lvl</td>\n",
       "      <td>...</td>\n",
       "      <td>0</td>\n",
       "      <td>NaN</td>\n",
       "      <td>NaN</td>\n",
       "      <td>NaN</td>\n",
       "      <td>0</td>\n",
       "      <td>5</td>\n",
       "      <td>2010</td>\n",
       "      <td>WD</td>\n",
       "      <td>Normal</td>\n",
       "      <td>215000</td>\n",
       "    </tr>\n",
       "    <tr>\n",
       "      <th>1</th>\n",
       "      <td>2</td>\n",
       "      <td>526350040</td>\n",
       "      <td>20</td>\n",
       "      <td>RH</td>\n",
       "      <td>80.0</td>\n",
       "      <td>11622</td>\n",
       "      <td>Pave</td>\n",
       "      <td>NaN</td>\n",
       "      <td>Reg</td>\n",
       "      <td>Lvl</td>\n",
       "      <td>...</td>\n",
       "      <td>0</td>\n",
       "      <td>NaN</td>\n",
       "      <td>MnPrv</td>\n",
       "      <td>NaN</td>\n",
       "      <td>0</td>\n",
       "      <td>6</td>\n",
       "      <td>2010</td>\n",
       "      <td>WD</td>\n",
       "      <td>Normal</td>\n",
       "      <td>105000</td>\n",
       "    </tr>\n",
       "    <tr>\n",
       "      <th>2</th>\n",
       "      <td>3</td>\n",
       "      <td>526351010</td>\n",
       "      <td>20</td>\n",
       "      <td>RL</td>\n",
       "      <td>81.0</td>\n",
       "      <td>14267</td>\n",
       "      <td>Pave</td>\n",
       "      <td>NaN</td>\n",
       "      <td>IR1</td>\n",
       "      <td>Lvl</td>\n",
       "      <td>...</td>\n",
       "      <td>0</td>\n",
       "      <td>NaN</td>\n",
       "      <td>NaN</td>\n",
       "      <td>Gar2</td>\n",
       "      <td>12500</td>\n",
       "      <td>6</td>\n",
       "      <td>2010</td>\n",
       "      <td>WD</td>\n",
       "      <td>Normal</td>\n",
       "      <td>172000</td>\n",
       "    </tr>\n",
       "    <tr>\n",
       "      <th>3</th>\n",
       "      <td>4</td>\n",
       "      <td>526353030</td>\n",
       "      <td>20</td>\n",
       "      <td>RL</td>\n",
       "      <td>93.0</td>\n",
       "      <td>11160</td>\n",
       "      <td>Pave</td>\n",
       "      <td>NaN</td>\n",
       "      <td>Reg</td>\n",
       "      <td>Lvl</td>\n",
       "      <td>...</td>\n",
       "      <td>0</td>\n",
       "      <td>NaN</td>\n",
       "      <td>NaN</td>\n",
       "      <td>NaN</td>\n",
       "      <td>0</td>\n",
       "      <td>4</td>\n",
       "      <td>2010</td>\n",
       "      <td>WD</td>\n",
       "      <td>Normal</td>\n",
       "      <td>244000</td>\n",
       "    </tr>\n",
       "    <tr>\n",
       "      <th>4</th>\n",
       "      <td>5</td>\n",
       "      <td>527105010</td>\n",
       "      <td>60</td>\n",
       "      <td>RL</td>\n",
       "      <td>74.0</td>\n",
       "      <td>13830</td>\n",
       "      <td>Pave</td>\n",
       "      <td>NaN</td>\n",
       "      <td>IR1</td>\n",
       "      <td>Lvl</td>\n",
       "      <td>...</td>\n",
       "      <td>0</td>\n",
       "      <td>NaN</td>\n",
       "      <td>MnPrv</td>\n",
       "      <td>NaN</td>\n",
       "      <td>0</td>\n",
       "      <td>3</td>\n",
       "      <td>2010</td>\n",
       "      <td>WD</td>\n",
       "      <td>Normal</td>\n",
       "      <td>189900</td>\n",
       "    </tr>\n",
       "  </tbody>\n",
       "</table>\n",
       "<p>5 rows × 82 columns</p>\n",
       "</div>"
      ],
      "text/plain": [
       "   Order        PID  MS SubClass MS Zoning  Lot Frontage  Lot Area Street  \\\n",
       "0      1  526301100           20        RL         141.0     31770   Pave   \n",
       "1      2  526350040           20        RH          80.0     11622   Pave   \n",
       "2      3  526351010           20        RL          81.0     14267   Pave   \n",
       "3      4  526353030           20        RL          93.0     11160   Pave   \n",
       "4      5  527105010           60        RL          74.0     13830   Pave   \n",
       "\n",
       "  Alley Lot Shape Land Contour    ...     Pool Area Pool QC  Fence  \\\n",
       "0   NaN       IR1          Lvl    ...             0     NaN    NaN   \n",
       "1   NaN       Reg          Lvl    ...             0     NaN  MnPrv   \n",
       "2   NaN       IR1          Lvl    ...             0     NaN    NaN   \n",
       "3   NaN       Reg          Lvl    ...             0     NaN    NaN   \n",
       "4   NaN       IR1          Lvl    ...             0     NaN  MnPrv   \n",
       "\n",
       "  Misc Feature Misc Val Mo Sold Yr Sold Sale Type  Sale Condition  SalePrice  \n",
       "0          NaN        0       5    2010       WD           Normal     215000  \n",
       "1          NaN        0       6    2010       WD           Normal     105000  \n",
       "2         Gar2    12500       6    2010       WD           Normal     172000  \n",
       "3          NaN        0       4    2010       WD           Normal     244000  \n",
       "4          NaN        0       3    2010       WD           Normal     189900  \n",
       "\n",
       "[5 rows x 82 columns]"
      ]
     },
     "execution_count": 52,
     "metadata": {},
     "output_type": "execute_result"
    }
   ],
   "source": [
    "# Read the data\n",
    "data = pd.read_csv('AmesHousing.tsv', sep = '\\t')\n",
    "data.head()"
   ]
  },
  {
   "cell_type": "code",
   "execution_count": 53,
   "metadata": {},
   "outputs": [
    {
     "name": "stdout",
     "output_type": "stream",
     "text": [
      "<class 'pandas.core.frame.DataFrame'>\n",
      "RangeIndex: 2930 entries, 0 to 2929\n",
      "Data columns (total 82 columns):\n",
      "Order              2930 non-null int64\n",
      "PID                2930 non-null int64\n",
      "MS SubClass        2930 non-null int64\n",
      "MS Zoning          2930 non-null object\n",
      "Lot Frontage       2440 non-null float64\n",
      "Lot Area           2930 non-null int64\n",
      "Street             2930 non-null object\n",
      "Alley              198 non-null object\n",
      "Lot Shape          2930 non-null object\n",
      "Land Contour       2930 non-null object\n",
      "Utilities          2930 non-null object\n",
      "Lot Config         2930 non-null object\n",
      "Land Slope         2930 non-null object\n",
      "Neighborhood       2930 non-null object\n",
      "Condition 1        2930 non-null object\n",
      "Condition 2        2930 non-null object\n",
      "Bldg Type          2930 non-null object\n",
      "House Style        2930 non-null object\n",
      "Overall Qual       2930 non-null int64\n",
      "Overall Cond       2930 non-null int64\n",
      "Year Built         2930 non-null int64\n",
      "Year Remod/Add     2930 non-null int64\n",
      "Roof Style         2930 non-null object\n",
      "Roof Matl          2930 non-null object\n",
      "Exterior 1st       2930 non-null object\n",
      "Exterior 2nd       2930 non-null object\n",
      "Mas Vnr Type       2907 non-null object\n",
      "Mas Vnr Area       2907 non-null float64\n",
      "Exter Qual         2930 non-null object\n",
      "Exter Cond         2930 non-null object\n",
      "Foundation         2930 non-null object\n",
      "Bsmt Qual          2850 non-null object\n",
      "Bsmt Cond          2850 non-null object\n",
      "Bsmt Exposure      2847 non-null object\n",
      "BsmtFin Type 1     2850 non-null object\n",
      "BsmtFin SF 1       2929 non-null float64\n",
      "BsmtFin Type 2     2849 non-null object\n",
      "BsmtFin SF 2       2929 non-null float64\n",
      "Bsmt Unf SF        2929 non-null float64\n",
      "Total Bsmt SF      2929 non-null float64\n",
      "Heating            2930 non-null object\n",
      "Heating QC         2930 non-null object\n",
      "Central Air        2930 non-null object\n",
      "Electrical         2929 non-null object\n",
      "1st Flr SF         2930 non-null int64\n",
      "2nd Flr SF         2930 non-null int64\n",
      "Low Qual Fin SF    2930 non-null int64\n",
      "Gr Liv Area        2930 non-null int64\n",
      "Bsmt Full Bath     2928 non-null float64\n",
      "Bsmt Half Bath     2928 non-null float64\n",
      "Full Bath          2930 non-null int64\n",
      "Half Bath          2930 non-null int64\n",
      "Bedroom AbvGr      2930 non-null int64\n",
      "Kitchen AbvGr      2930 non-null int64\n",
      "Kitchen Qual       2930 non-null object\n",
      "TotRms AbvGrd      2930 non-null int64\n",
      "Functional         2930 non-null object\n",
      "Fireplaces         2930 non-null int64\n",
      "Fireplace Qu       1508 non-null object\n",
      "Garage Type        2773 non-null object\n",
      "Garage Yr Blt      2771 non-null float64\n",
      "Garage Finish      2771 non-null object\n",
      "Garage Cars        2929 non-null float64\n",
      "Garage Area        2929 non-null float64\n",
      "Garage Qual        2771 non-null object\n",
      "Garage Cond        2771 non-null object\n",
      "Paved Drive        2930 non-null object\n",
      "Wood Deck SF       2930 non-null int64\n",
      "Open Porch SF      2930 non-null int64\n",
      "Enclosed Porch     2930 non-null int64\n",
      "3Ssn Porch         2930 non-null int64\n",
      "Screen Porch       2930 non-null int64\n",
      "Pool Area          2930 non-null int64\n",
      "Pool QC            13 non-null object\n",
      "Fence              572 non-null object\n",
      "Misc Feature       106 non-null object\n",
      "Misc Val           2930 non-null int64\n",
      "Mo Sold            2930 non-null int64\n",
      "Yr Sold            2930 non-null int64\n",
      "Sale Type          2930 non-null object\n",
      "Sale Condition     2930 non-null object\n",
      "SalePrice          2930 non-null int64\n",
      "dtypes: float64(11), int64(28), object(43)\n",
      "memory usage: 1.8+ MB\n"
     ]
    }
   ],
   "source": [
    "data.info()"
   ]
  },
  {
   "cell_type": "code",
   "execution_count": 54,
   "metadata": {
    "collapsed": true
   },
   "outputs": [],
   "source": [
    "# Transform features\n",
    "def transform_features(data):\n",
    "    return data\n",
    "\n",
    "# Select features\n",
    "def select_features(data):\n",
    "    return data[['Gr Liv Area', 'SalePrice']]\n",
    "\n",
    "# Train and test LR model\n",
    "def train_and_test(data):\n",
    "    train = data[:1460]\n",
    "    test =  data[1460:]\n",
    "    \n",
    "    features = train.select_dtypes(include=['int64', 'float64']).columns \n",
    "    features = features.drop('SalePrice')\n",
    "    \n",
    "    Lr = LinearRegression()\n",
    "    Lr.fit(train[features], train['SalePrice'])\n",
    "    prediction = Lr.predict(test[features])\n",
    "    RMSE = mean_squared_error(prediction, test['SalePrice'])**0.5\n",
    "    return RMSE\n",
    "    "
   ]
  },
  {
   "cell_type": "code",
   "execution_count": 55,
   "metadata": {},
   "outputs": [
    {
     "name": "stdout",
     "output_type": "stream",
     "text": [
      "57088.2516126\n"
     ]
    }
   ],
   "source": [
    "# Test the model for the dataset\n",
    "transformed_data = transform_features(data)\n",
    "features_selected = select_features(transformed_data)\n",
    "Rmse = train_and_test(features_selected)\n",
    "print(Rmse)"
   ]
  },
  {
   "cell_type": "markdown",
   "metadata": {},
   "source": [
    "# Feature Transformation"
   ]
  },
  {
   "cell_type": "markdown",
   "metadata": {},
   "source": [
    "__1) Drop the  columns having more than 5% missing values__  \n",
    "__2) Drop the text columns having more than 1 missing row__  \n",
    "__3) Fill the numeric columns with most common values__  \n",
    "__4) Create new features that better capture the information in some of the features__   \n",
    "__5) Drop columns that are not useful for ML and leak data about the final sale__  \n"
   ]
  },
  {
   "cell_type": "code",
   "execution_count": 56,
   "metadata": {},
   "outputs": [
    {
     "data": {
      "text/plain": [
       "146.5"
      ]
     },
     "execution_count": 56,
     "metadata": {},
     "output_type": "execute_result"
    }
   ],
   "source": [
    "five_percent = len(data) *0.05\n",
    "five_percent"
   ]
  },
  {
   "cell_type": "code",
   "execution_count": 57,
   "metadata": {},
   "outputs": [
    {
     "data": {
      "text/html": [
       "<div>\n",
       "<table border=\"1\" class=\"dataframe\">\n",
       "  <thead>\n",
       "    <tr style=\"text-align: right;\">\n",
       "      <th></th>\n",
       "      <th>Order</th>\n",
       "      <th>PID</th>\n",
       "      <th>MS SubClass</th>\n",
       "      <th>MS Zoning</th>\n",
       "      <th>Lot Area</th>\n",
       "      <th>Street</th>\n",
       "      <th>Lot Shape</th>\n",
       "      <th>Land Contour</th>\n",
       "      <th>Utilities</th>\n",
       "      <th>Lot Config</th>\n",
       "      <th>...</th>\n",
       "      <th>Enclosed Porch</th>\n",
       "      <th>3Ssn Porch</th>\n",
       "      <th>Screen Porch</th>\n",
       "      <th>Pool Area</th>\n",
       "      <th>Misc Val</th>\n",
       "      <th>Mo Sold</th>\n",
       "      <th>Yr Sold</th>\n",
       "      <th>Sale Type</th>\n",
       "      <th>Sale Condition</th>\n",
       "      <th>SalePrice</th>\n",
       "    </tr>\n",
       "  </thead>\n",
       "  <tbody>\n",
       "    <tr>\n",
       "      <th>0</th>\n",
       "      <td>1</td>\n",
       "      <td>526301100</td>\n",
       "      <td>20</td>\n",
       "      <td>RL</td>\n",
       "      <td>31770</td>\n",
       "      <td>Pave</td>\n",
       "      <td>IR1</td>\n",
       "      <td>Lvl</td>\n",
       "      <td>AllPub</td>\n",
       "      <td>Corner</td>\n",
       "      <td>...</td>\n",
       "      <td>0</td>\n",
       "      <td>0</td>\n",
       "      <td>0</td>\n",
       "      <td>0</td>\n",
       "      <td>0</td>\n",
       "      <td>5</td>\n",
       "      <td>2010</td>\n",
       "      <td>WD</td>\n",
       "      <td>Normal</td>\n",
       "      <td>215000</td>\n",
       "    </tr>\n",
       "    <tr>\n",
       "      <th>1</th>\n",
       "      <td>2</td>\n",
       "      <td>526350040</td>\n",
       "      <td>20</td>\n",
       "      <td>RH</td>\n",
       "      <td>11622</td>\n",
       "      <td>Pave</td>\n",
       "      <td>Reg</td>\n",
       "      <td>Lvl</td>\n",
       "      <td>AllPub</td>\n",
       "      <td>Inside</td>\n",
       "      <td>...</td>\n",
       "      <td>0</td>\n",
       "      <td>0</td>\n",
       "      <td>120</td>\n",
       "      <td>0</td>\n",
       "      <td>0</td>\n",
       "      <td>6</td>\n",
       "      <td>2010</td>\n",
       "      <td>WD</td>\n",
       "      <td>Normal</td>\n",
       "      <td>105000</td>\n",
       "    </tr>\n",
       "    <tr>\n",
       "      <th>2</th>\n",
       "      <td>3</td>\n",
       "      <td>526351010</td>\n",
       "      <td>20</td>\n",
       "      <td>RL</td>\n",
       "      <td>14267</td>\n",
       "      <td>Pave</td>\n",
       "      <td>IR1</td>\n",
       "      <td>Lvl</td>\n",
       "      <td>AllPub</td>\n",
       "      <td>Corner</td>\n",
       "      <td>...</td>\n",
       "      <td>0</td>\n",
       "      <td>0</td>\n",
       "      <td>0</td>\n",
       "      <td>0</td>\n",
       "      <td>12500</td>\n",
       "      <td>6</td>\n",
       "      <td>2010</td>\n",
       "      <td>WD</td>\n",
       "      <td>Normal</td>\n",
       "      <td>172000</td>\n",
       "    </tr>\n",
       "    <tr>\n",
       "      <th>3</th>\n",
       "      <td>4</td>\n",
       "      <td>526353030</td>\n",
       "      <td>20</td>\n",
       "      <td>RL</td>\n",
       "      <td>11160</td>\n",
       "      <td>Pave</td>\n",
       "      <td>Reg</td>\n",
       "      <td>Lvl</td>\n",
       "      <td>AllPub</td>\n",
       "      <td>Corner</td>\n",
       "      <td>...</td>\n",
       "      <td>0</td>\n",
       "      <td>0</td>\n",
       "      <td>0</td>\n",
       "      <td>0</td>\n",
       "      <td>0</td>\n",
       "      <td>4</td>\n",
       "      <td>2010</td>\n",
       "      <td>WD</td>\n",
       "      <td>Normal</td>\n",
       "      <td>244000</td>\n",
       "    </tr>\n",
       "    <tr>\n",
       "      <th>4</th>\n",
       "      <td>5</td>\n",
       "      <td>527105010</td>\n",
       "      <td>60</td>\n",
       "      <td>RL</td>\n",
       "      <td>13830</td>\n",
       "      <td>Pave</td>\n",
       "      <td>IR1</td>\n",
       "      <td>Lvl</td>\n",
       "      <td>AllPub</td>\n",
       "      <td>Inside</td>\n",
       "      <td>...</td>\n",
       "      <td>0</td>\n",
       "      <td>0</td>\n",
       "      <td>0</td>\n",
       "      <td>0</td>\n",
       "      <td>0</td>\n",
       "      <td>3</td>\n",
       "      <td>2010</td>\n",
       "      <td>WD</td>\n",
       "      <td>Normal</td>\n",
       "      <td>189900</td>\n",
       "    </tr>\n",
       "  </tbody>\n",
       "</table>\n",
       "<p>5 rows × 71 columns</p>\n",
       "</div>"
      ],
      "text/plain": [
       "   Order        PID  MS SubClass MS Zoning  Lot Area Street Lot Shape  \\\n",
       "0      1  526301100           20        RL     31770   Pave       IR1   \n",
       "1      2  526350040           20        RH     11622   Pave       Reg   \n",
       "2      3  526351010           20        RL     14267   Pave       IR1   \n",
       "3      4  526353030           20        RL     11160   Pave       Reg   \n",
       "4      5  527105010           60        RL     13830   Pave       IR1   \n",
       "\n",
       "  Land Contour Utilities Lot Config    ...     Enclosed Porch 3Ssn Porch  \\\n",
       "0          Lvl    AllPub     Corner    ...                  0          0   \n",
       "1          Lvl    AllPub     Inside    ...                  0          0   \n",
       "2          Lvl    AllPub     Corner    ...                  0          0   \n",
       "3          Lvl    AllPub     Corner    ...                  0          0   \n",
       "4          Lvl    AllPub     Inside    ...                  0          0   \n",
       "\n",
       "  Screen Porch Pool Area Misc Val Mo Sold  Yr Sold  Sale Type  Sale Condition  \\\n",
       "0            0         0        0       5     2010        WD           Normal   \n",
       "1          120         0        0       6     2010        WD           Normal   \n",
       "2            0         0    12500       6     2010        WD           Normal   \n",
       "3            0         0        0       4     2010        WD           Normal   \n",
       "4            0         0        0       3     2010        WD           Normal   \n",
       "\n",
       "   SalePrice  \n",
       "0     215000  \n",
       "1     105000  \n",
       "2     172000  \n",
       "3     244000  \n",
       "4     189900  \n",
       "\n",
       "[5 rows x 71 columns]"
      ]
     },
     "execution_count": 57,
     "metadata": {},
     "output_type": "execute_result"
    }
   ],
   "source": [
    "# Mission 1: Drop the columns having more than 5% missing data\n",
    "\n",
    "# Missing Data \n",
    "missings = data.isnull().sum()\n",
    "more_than_five = missings[missings > five_percent].index\n",
    "\n",
    "# Drop > 5% missing columns\n",
    "data = data.drop(more_than_five, axis = 1)\n",
    "data.head()\n"
   ]
  },
  {
   "cell_type": "code",
   "execution_count": 58,
   "metadata": {},
   "outputs": [],
   "source": [
    "# Mission 2: Drop the text columns having more than 1 missing row\n",
    "text_cols = data.select_dtypes(include = ['object']).columns\n",
    "text_cols_missing = data[text_cols].isnull().sum()\n",
    "text_cols_to_drop = text_cols_missing[text_cols_missing >0].index\n",
    "data = data.drop(text_cols_to_drop, axis = 1)\n"
   ]
  },
  {
   "cell_type": "code",
   "execution_count": 59,
   "metadata": {},
   "outputs": [
    {
     "data": {
      "text/plain": [
       "MS Zoning         0\n",
       "Street            0\n",
       "Lot Shape         0\n",
       "Land Contour      0\n",
       "Utilities         0\n",
       "Lot Config        0\n",
       "Land Slope        0\n",
       "Neighborhood      0\n",
       "Condition 1       0\n",
       "Condition 2       0\n",
       "Bldg Type         0\n",
       "House Style       0\n",
       "Roof Style        0\n",
       "Roof Matl         0\n",
       "Exterior 1st      0\n",
       "Exterior 2nd      0\n",
       "Exter Qual        0\n",
       "Exter Cond        0\n",
       "Foundation        0\n",
       "Heating           0\n",
       "Heating QC        0\n",
       "Central Air       0\n",
       "Kitchen Qual      0\n",
       "Functional        0\n",
       "Paved Drive       0\n",
       "Sale Type         0\n",
       "Sale Condition    0\n",
       "dtype: int64"
      ]
     },
     "execution_count": 59,
     "metadata": {},
     "output_type": "execute_result"
    }
   ],
   "source": [
    "data.select_dtypes(include = ['object']).isnull().sum()"
   ]
  },
  {
   "cell_type": "code",
   "execution_count": 60,
   "metadata": {
    "collapsed": true
   },
   "outputs": [],
   "source": [
    "# Mission 3: Fill the numeric columns with most common values\n",
    "numeric_cols = data.select_dtypes(include = ['int64', 'float64']).columns\n",
    "data[numeric_cols] = data[numeric_cols].fillna(data.median())"
   ]
  },
  {
   "cell_type": "code",
   "execution_count": 61,
   "metadata": {},
   "outputs": [
    {
     "data": {
      "text/plain": [
       "Order              False\n",
       "PID                False\n",
       "MS SubClass        False\n",
       "Lot Area           False\n",
       "Overall Qual       False\n",
       "Overall Cond       False\n",
       "Year Built         False\n",
       "Year Remod/Add     False\n",
       "Mas Vnr Area       False\n",
       "BsmtFin SF 1       False\n",
       "BsmtFin SF 2       False\n",
       "Bsmt Unf SF        False\n",
       "Total Bsmt SF      False\n",
       "1st Flr SF         False\n",
       "2nd Flr SF         False\n",
       "Low Qual Fin SF    False\n",
       "Gr Liv Area        False\n",
       "Bsmt Full Bath     False\n",
       "Bsmt Half Bath     False\n",
       "Full Bath          False\n",
       "Half Bath          False\n",
       "Bedroom AbvGr      False\n",
       "Kitchen AbvGr      False\n",
       "TotRms AbvGrd      False\n",
       "Fireplaces         False\n",
       "Garage Cars        False\n",
       "Garage Area        False\n",
       "Wood Deck SF       False\n",
       "Open Porch SF      False\n",
       "Enclosed Porch     False\n",
       "3Ssn Porch         False\n",
       "Screen Porch       False\n",
       "Pool Area          False\n",
       "Misc Val           False\n",
       "Mo Sold            False\n",
       "Yr Sold            False\n",
       "SalePrice          False\n",
       "dtype: bool"
      ]
     },
     "execution_count": 61,
     "metadata": {},
     "output_type": "execute_result"
    }
   ],
   "source": [
    "data[numeric_cols].isnull().any()"
   ]
  },
  {
   "cell_type": "code",
   "execution_count": 62,
   "metadata": {},
   "outputs": [
    {
     "data": {
      "text/plain": [
       "Order              0\n",
       "Central Air        0\n",
       "1st Flr SF         0\n",
       "2nd Flr SF         0\n",
       "Low Qual Fin SF    0\n",
       "Gr Liv Area        0\n",
       "Bsmt Full Bath     0\n",
       "Bsmt Half Bath     0\n",
       "Full Bath          0\n",
       "Half Bath          0\n",
       "Bedroom AbvGr      0\n",
       "Kitchen AbvGr      0\n",
       "Kitchen Qual       0\n",
       "TotRms AbvGrd      0\n",
       "Heating QC         0\n",
       "Functional         0\n",
       "Garage Cars        0\n",
       "Garage Area        0\n",
       "Paved Drive        0\n",
       "Wood Deck SF       0\n",
       "Open Porch SF      0\n",
       "Enclosed Porch     0\n",
       "3Ssn Porch         0\n",
       "Screen Porch       0\n",
       "Pool Area          0\n",
       "Misc Val           0\n",
       "Mo Sold            0\n",
       "Yr Sold            0\n",
       "Sale Type          0\n",
       "Fireplaces         0\n",
       "                  ..\n",
       "MS SubClass        0\n",
       "MS Zoning          0\n",
       "Lot Area           0\n",
       "Street             0\n",
       "Lot Shape          0\n",
       "Land Contour       0\n",
       "Utilities          0\n",
       "Lot Config         0\n",
       "Land Slope         0\n",
       "Neighborhood       0\n",
       "Condition 1        0\n",
       "Condition 2        0\n",
       "Bldg Type          0\n",
       "House Style        0\n",
       "Overall Qual       0\n",
       "Overall Cond       0\n",
       "Year Built         0\n",
       "Year Remod/Add     0\n",
       "Roof Style         0\n",
       "Roof Matl          0\n",
       "Exterior 1st       0\n",
       "Exterior 2nd       0\n",
       "Mas Vnr Area       0\n",
       "Exter Qual         0\n",
       "Exter Cond         0\n",
       "Foundation         0\n",
       "BsmtFin SF 1       0\n",
       "BsmtFin SF 2       0\n",
       "Sale Condition     0\n",
       "SalePrice          0\n",
       "dtype: int64"
      ]
     },
     "execution_count": 62,
     "metadata": {},
     "output_type": "execute_result"
    }
   ],
   "source": [
    "# Verify if there exist a missing value\n",
    "data.isnull().sum().sort_values()"
   ]
  },
  {
   "cell_type": "code",
   "execution_count": 63,
   "metadata": {},
   "outputs": [],
   "source": [
    "# Mission 4: Create new features that \n",
    "# better capture the information in some of the features\n",
    "data['Years_until_remod'] = data['Year Remod/Add'] - data['Year Built']\n",
    "data['Years_since_built'] = data['Yr Sold']- data['Year Built']\n",
    "data['Years_since_remodel'] = data['Yr Sold'] - data['Year Remod/Add']\n",
    "ind1 = data[(data['Years_until_remod'] <0)].index\n",
    "data = data.drop(ind1, axis =0)"
   ]
  },
  {
   "cell_type": "code",
   "execution_count": 64,
   "metadata": {},
   "outputs": [],
   "source": [
    "ind2 = data[(data['Years_since_built']) <0].index\n",
    "data = data.drop(ind2, axis =0)"
   ]
  },
  {
   "cell_type": "code",
   "execution_count": 65,
   "metadata": {},
   "outputs": [],
   "source": [
    "ind3 = data[data['Years_since_remodel']<0].index\n",
    "data = data.drop(ind3, axis =0)"
   ]
  },
  {
   "cell_type": "code",
   "execution_count": 66,
   "metadata": {
    "collapsed": true
   },
   "outputs": [],
   "source": [
    "data = data.drop(['Year Remod/Add','Year Built'], axis = 1)"
   ]
  },
  {
   "cell_type": "code",
   "execution_count": 67,
   "metadata": {
    "collapsed": true
   },
   "outputs": [],
   "source": [
    "# Mission 5: Drop columns that are not useful for ML and \n",
    "#leak data about the final sale\n",
    "leak_info_columns = [\"Mo Sold\", \"Yr Sold\",\"Sale Type\", \"Sale Condition\"]\n",
    "not_useful_columns = [\"PID\", \"Order\"]\n"
   ]
  },
  {
   "cell_type": "code",
   "execution_count": 68,
   "metadata": {},
   "outputs": [],
   "source": [
    "data = data.drop(leak_info_columns, axis =1)\n",
    "data = data.drop(not_useful_columns, axis = 1)"
   ]
  },
  {
   "cell_type": "code",
   "execution_count": 69,
   "metadata": {},
   "outputs": [
    {
     "name": "stdout",
     "output_type": "stream",
     "text": [
      "Index(['MS SubClass', 'MS Zoning', 'Lot Area', 'Street', 'Lot Shape',\n",
      "       'Land Contour', 'Utilities', 'Lot Config', 'Land Slope', 'Neighborhood',\n",
      "       'Condition 1', 'Condition 2', 'Bldg Type', 'House Style',\n",
      "       'Overall Qual', 'Overall Cond', 'Roof Style', 'Roof Matl',\n",
      "       'Exterior 1st', 'Exterior 2nd', 'Mas Vnr Area', 'Exter Qual',\n",
      "       'Exter Cond', 'Foundation', 'BsmtFin SF 1', 'BsmtFin SF 2',\n",
      "       'Bsmt Unf SF', 'Total Bsmt SF', 'Heating', 'Heating QC', 'Central Air',\n",
      "       '1st Flr SF', '2nd Flr SF', 'Low Qual Fin SF', 'Gr Liv Area',\n",
      "       'Bsmt Full Bath', 'Bsmt Half Bath', 'Full Bath', 'Half Bath',\n",
      "       'Bedroom AbvGr', 'Kitchen AbvGr', 'Kitchen Qual', 'TotRms AbvGrd',\n",
      "       'Functional', 'Fireplaces', 'Garage Cars', 'Garage Area', 'Paved Drive',\n",
      "       'Wood Deck SF', 'Open Porch SF', 'Enclosed Porch', '3Ssn Porch',\n",
      "       'Screen Porch', 'Pool Area', 'Misc Val', 'SalePrice',\n",
      "       'Years_until_remod', 'Years_since_built', 'Years_since_remodel'],\n",
      "      dtype='object')\n"
     ]
    }
   ],
   "source": [
    "print(data.columns)\n"
   ]
  },
  {
   "cell_type": "code",
   "execution_count": 70,
   "metadata": {},
   "outputs": [
    {
     "name": "stdout",
     "output_type": "stream",
     "text": [
      "55284.6227781\n"
     ]
    }
   ],
   "source": [
    "# Update Transform Features function\n",
    "def transform_features(data):\n",
    "    \n",
    "    five_percent = len(data) *0.05\n",
    "    \n",
    "    # Missing Data \n",
    "    missings = data.isnull().sum()\n",
    "    more_than_five = missings[missings > five_percent].index\n",
    "\n",
    "    # Drop > 5% missing columns\n",
    "    data = data.drop(more_than_five, axis = 1)\n",
    "    \n",
    "    #Drop the text columns having more than 1 missing row\n",
    "    text_cols = data.select_dtypes(include = ['object']).columns\n",
    "    text_cols_missing = data[text_cols].isnull().sum()\n",
    "    text_cols_to_drop = text_cols_missing[text_cols_missing >0].index\n",
    "    data = data.drop(text_cols_to_drop, axis = 1)\n",
    "    \n",
    "    #Fill the numeric columns with most common values\n",
    "    numeric_cols = data.select_dtypes(include = ['int64', 'float64']).columns\n",
    "    data[numeric_cols] = data[numeric_cols].fillna(data.median())\n",
    "    \n",
    "    #create_new_features to better capture the information\n",
    "    data['Years_until_remod'] = data['Year Remod/Add'] - data['Year Built']\n",
    "    data['Years_since_built'] = data['Yr Sold']- data['Year Built']\n",
    "    data['Years_since_remodel'] = data['Yr Sold'] - data['Year Remod/Add']\n",
    "    data = data.drop(['Year Remod/Add','Year Built'], axis = 1)\n",
    "    \n",
    "    #Drop negative values\n",
    "    ind1 = data[(data['Years_until_remod'] <0)].index\n",
    "    data = data.drop(ind1, axis =0)\n",
    "    ind2 = data[(data['Years_since_built']) <0].index\n",
    "    data = data.drop(ind2, axis =0)\n",
    "    ind3 = data[data['Years_since_remodel']<0].index\n",
    "    data = data.drop(ind3, axis =0)\n",
    "    \n",
    "    #Drop info leak and unuseful columns\n",
    "    leak_info_columns = [\"Mo Sold\", \"Yr Sold\", \n",
    "                     \"Sale Type\", \"Sale Condition\"]\n",
    "    not_useful_columns = [\"PID\", \"Order\"]\n",
    "    data = data.drop(leak_info_columns, axis =1)\n",
    "    data = data.drop(not_useful_columns, axis = 1)\n",
    "    \n",
    "    return data\n",
    "\n",
    "# Select features\n",
    "def select_features(data):\n",
    "    return data[['Gr Liv Area', 'SalePrice']]\n",
    "\n",
    "# Train and test LR model\n",
    "def train_and_test(data):\n",
    "    train = data[:1460]\n",
    "    test =  data[1460:]\n",
    "    \n",
    "    features = train.select_dtypes(include=['int64', 'float64']).columns \n",
    "    features = features.drop('SalePrice')\n",
    "    \n",
    "    Lr = LinearRegression()\n",
    "    Lr.fit(train[features], train['SalePrice'])\n",
    "    prediction = Lr.predict(test[features])\n",
    "    RMSE = mean_squared_error(prediction, test['SalePrice'])**0.5\n",
    "    return RMSE\n",
    "\n",
    "# Test the model for the dataset\n",
    "data = pd.read_csv('AmesHousing.tsv', sep = '\\t')\n",
    "transformed_data = transform_features(data)\n",
    "features_selected = select_features(transformed_data)\n",
    "Rmse = train_and_test(features_selected)\n",
    "print(Rmse)\n",
    "\n"
   ]
  },
  {
   "cell_type": "markdown",
   "metadata": {},
   "source": [
    "# Feature Selection"
   ]
  },
  {
   "cell_type": "markdown",
   "metadata": {},
   "source": [
    "Generate a correlation heatmap matrix of the numerical features in the training data set."
   ]
  },
  {
   "cell_type": "code",
   "execution_count": 71,
   "metadata": {
    "collapsed": true
   },
   "outputs": [],
   "source": [
    "numeric_data = transformed_data.select_dtypes(include = ['integer', 'float'])"
   ]
  },
  {
   "cell_type": "code",
   "execution_count": 72,
   "metadata": {},
   "outputs": [
    {
     "data": {
      "text/plain": [
       "SalePrice              1.000000\n",
       "Overall Qual           0.801212\n",
       "Gr Liv Area            0.717617\n",
       "Garage Cars            0.648351\n",
       "Total Bsmt SF          0.643671\n",
       "Garage Area            0.641659\n",
       "1st Flr SF             0.635183\n",
       "Years_since_built      0.558984\n",
       "Full Bath              0.546108\n",
       "Years_since_remodel    0.534972\n",
       "Mas Vnr Area           0.507010\n",
       "TotRms AbvGrd          0.498614\n",
       "Fireplaces             0.474994\n",
       "BsmtFin SF 1           0.439077\n",
       "Wood Deck SF           0.328158\n",
       "Open Porch SF          0.316277\n",
       "Half Bath              0.284974\n",
       "Bsmt Full Bath         0.276214\n",
       "2nd Flr SF             0.269707\n",
       "Lot Area               0.267517\n",
       "Years_until_remod      0.240017\n",
       "Bsmt Unf SF            0.182449\n",
       "Bedroom AbvGr          0.143902\n",
       "Enclosed Porch         0.128656\n",
       "Kitchen AbvGr          0.119743\n",
       "Screen Porch           0.112310\n",
       "Overall Cond           0.101498\n",
       "MS SubClass            0.085056\n",
       "Pool Area              0.068445\n",
       "Low Qual Fin SF        0.037620\n",
       "Bsmt Half Bath         0.035852\n",
       "3Ssn Porch             0.032279\n",
       "Misc Val               0.019264\n",
       "BsmtFin SF 2           0.006156\n",
       "Name: SalePrice, dtype: float64"
      ]
     },
     "execution_count": 72,
     "metadata": {},
     "output_type": "execute_result"
    }
   ],
   "source": [
    "#Which features correlate \n",
    "#strongly with our target column, SalePrice?\n",
    "corrs = numeric_data.corr()\n",
    "corrs_with_target = corrs['SalePrice'].abs().sort_values(ascending = False)\n",
    "corrs_with_target"
   ]
  },
  {
   "cell_type": "code",
   "execution_count": 73,
   "metadata": {},
   "outputs": [],
   "source": [
    "corrs_04= corrs[corrs > 0.4]"
   ]
  },
  {
   "cell_type": "code",
   "execution_count": 74,
   "metadata": {},
   "outputs": [
    {
     "data": {
      "image/png": "[encoded data removed]",
      "text/plain": [
       "<matplotlib.figure.Figure at 0x7f2330a2eb00>"
      ]
     },
     "metadata": {},
     "output_type": "display_data"
    }
   ],
   "source": [
    "sns.heatmap(corrs_04)\n",
    "plt.show()\n"
   ]
  },
  {
   "cell_type": "code",
   "execution_count": 75,
   "metadata": {},
   "outputs": [
    {
     "data": {
      "text/plain": [
       "SalePrice              1.000000\n",
       "Overall Qual           0.801212\n",
       "Gr Liv Area            0.717617\n",
       "Garage Cars            0.648351\n",
       "Total Bsmt SF          0.643671\n",
       "Garage Area            0.641659\n",
       "1st Flr SF             0.635183\n",
       "Years_since_built      0.558984\n",
       "Full Bath              0.546108\n",
       "Years_since_remodel    0.534972\n",
       "Mas Vnr Area           0.507010\n",
       "TotRms AbvGrd          0.498614\n",
       "Fireplaces             0.474994\n",
       "BsmtFin SF 1           0.439077\n",
       "Name: SalePrice, dtype: float64"
      ]
     },
     "execution_count": 75,
     "metadata": {},
     "output_type": "execute_result"
    }
   ],
   "source": [
    "# Correlation coefficient bigger than 0.4\n",
    "corrs_with_target_04 = corrs_with_target[corrs_with_target>0.4]\n",
    "corrs_with_target_04"
   ]
  },
  {
   "cell_type": "code",
   "execution_count": 76,
   "metadata": {},
   "outputs": [
    {
     "data": {
      "text/plain": [
       "SalePrice              1.000000\n",
       "Overall Qual           0.801212\n",
       "Gr Liv Area            0.717617\n",
       "Garage Cars            0.648351\n",
       "Total Bsmt SF          0.643671\n",
       "Garage Area            0.641659\n",
       "1st Flr SF             0.635183\n",
       "Years_since_built      0.558984\n",
       "Full Bath              0.546108\n",
       "Years_since_remodel    0.534972\n",
       "Mas Vnr Area           0.507010\n",
       "TotRms AbvGrd          0.498614\n",
       "Fireplaces             0.474994\n",
       "BsmtFin SF 1           0.439077\n",
       "Wood Deck SF           0.328158\n",
       "Open Porch SF          0.316277\n",
       "Name: SalePrice, dtype: float64"
      ]
     },
     "execution_count": 76,
     "metadata": {},
     "output_type": "execute_result"
    }
   ],
   "source": [
    "# Correlation coefficient bigger than 0.3\n",
    "corrs_with_target_03 = corrs_with_target[corrs_with_target>0.3]\n",
    "corrs_with_target_03"
   ]
  },
  {
   "cell_type": "code",
   "execution_count": 77,
   "metadata": {
    "collapsed": true
   },
   "outputs": [],
   "source": [
    "# Drop columns which have low correlation with SalePrice\n",
    "transformed_data = transformed_data.drop(corrs_with_target[corrs_with_target<0.4].index, axis =1)\n"
   ]
  },
  {
   "cell_type": "markdown",
   "metadata": {},
   "source": [
    "Which columns in the data frame should be converted to the categorical data type? "
   ]
  },
  {
   "cell_type": "code",
   "execution_count": 78,
   "metadata": {
    "collapsed": true
   },
   "outputs": [],
   "source": [
    "all_categorical_cols = [\"PID\", \"MS SubClass\", \"MS Zoning\", \"Street\", \"Alley\", \"Land Contour\", \"Lot Config\", \"Neighborhood\", \n",
    "                    \"Condition 1\", \"Condition 2\", \"Bldg Type\", \"House Style\", \"Roof Style\", \"Roof Matl\", \"Exterior 1st\", \n",
    "                    \"Exterior 2nd\", \"Mas Vnr Type\", \"Foundation\", \"Heating\", \"Central Air\", \"Garage Type\", \n",
    "                    \"Misc Feature\", \"Sale Type\", \"Sale Condition\"]"
   ]
  },
  {
   "cell_type": "code",
   "execution_count": 79,
   "metadata": {},
   "outputs": [
    {
     "data": {
      "text/plain": [
       "['MS Zoning',\n",
       " 'Street',\n",
       " 'Land Contour',\n",
       " 'Lot Config',\n",
       " 'Neighborhood',\n",
       " 'Condition 1',\n",
       " 'Condition 2',\n",
       " 'Bldg Type',\n",
       " 'House Style',\n",
       " 'Roof Style',\n",
       " 'Roof Matl',\n",
       " 'Exterior 1st',\n",
       " 'Exterior 2nd',\n",
       " 'Foundation',\n",
       " 'Heating',\n",
       " 'Central Air']"
      ]
     },
     "execution_count": 79,
     "metadata": {},
     "output_type": "execute_result"
    }
   ],
   "source": [
    "#Which columns are still in our data?\n",
    "current_categorical_cols = []\n",
    "for col in all_categorical_cols:\n",
    "    if col in transformed_data.columns:\n",
    "        current_categorical_cols.append(col)\n",
    "current_categorical_cols"
   ]
  },
  {
   "cell_type": "markdown",
   "metadata": {},
   "source": [
    "If a categorical column has hundreds of unique values (or categories), should we keep it? When we dummy code this column, hundreds of columns will need to be added back to the data frame."
   ]
  },
  {
   "cell_type": "code",
   "execution_count": 80,
   "metadata": {},
   "outputs": [
    {
     "data": {
      "text/plain": [
       "{'Bldg Type': 5,\n",
       " 'Central Air': 2,\n",
       " 'Condition 1': 9,\n",
       " 'Condition 2': 8,\n",
       " 'Exterior 1st': 16,\n",
       " 'Exterior 2nd': 17,\n",
       " 'Foundation': 6,\n",
       " 'Heating': 6,\n",
       " 'House Style': 8,\n",
       " 'Land Contour': 4,\n",
       " 'Lot Config': 5,\n",
       " 'MS Zoning': 7,\n",
       " 'Neighborhood': 28,\n",
       " 'Roof Matl': 8,\n",
       " 'Roof Style': 6,\n",
       " 'Street': 2}"
      ]
     },
     "execution_count": 80,
     "metadata": {},
     "output_type": "execute_result"
    }
   ],
   "source": [
    "#Calculate unique counts for each col\n",
    "unique_counts_dict = {}\n",
    "for col in current_categorical_cols:\n",
    "    unique_counts_dict[col]=len(transformed_data[col].value_counts())\n",
    "unique_counts_dict"
   ]
  },
  {
   "cell_type": "code",
   "execution_count": 81,
   "metadata": {},
   "outputs": [
    {
     "data": {
      "text/plain": [
       "['Neighborhood', 'Exterior 2nd', 'Exterior 1st']"
      ]
     },
     "execution_count": 81,
     "metadata": {},
     "output_type": "execute_result"
    }
   ],
   "source": [
    "non_uniq_cols = [col for col in unique_counts_dict if unique_counts_dict[col] >10 ]\n",
    "non_uniq_cols "
   ]
  },
  {
   "cell_type": "code",
   "execution_count": 82,
   "metadata": {},
   "outputs": [],
   "source": [
    "#Drop non_unique columns\n",
    "transformed_data = transformed_data.drop(non_uniq_cols, axis =1)\n"
   ]
  },
  {
   "cell_type": "code",
   "execution_count": 83,
   "metadata": {},
   "outputs": [
    {
     "data": {
      "text/plain": [
       "['MS Zoning',\n",
       " 'Street',\n",
       " 'Land Contour',\n",
       " 'Lot Config',\n",
       " 'Condition 1',\n",
       " 'Condition 2',\n",
       " 'Bldg Type',\n",
       " 'House Style',\n",
       " 'Roof Style',\n",
       " 'Roof Matl',\n",
       " 'Foundation',\n",
       " 'Heating',\n",
       " 'Central Air']"
      ]
     },
     "execution_count": 83,
     "metadata": {},
     "output_type": "execute_result"
    }
   ],
   "source": [
    "current_categorical_cols = [col for col in current_categorical_cols if col not in non_uniq_cols]\n",
    "current_categorical_cols"
   ]
  },
  {
   "cell_type": "markdown",
   "metadata": {},
   "source": [
    "Which categorical columns have a few unique values but more than 95% of the values in the column belong to a specific category? This would be similar to a low variance numerical feature (no variability in the data for the model to capture)."
   ]
  },
  {
   "cell_type": "code",
   "execution_count": 84,
   "metadata": {},
   "outputs": [
    {
     "data": {
      "text/plain": [
       "{'Bldg Type': [2421, 233, 109, 101, 62],\n",
       " 'Central Air': [2730, 196],\n",
       " 'Condition 1': [2519, 164, 92, 50, 38, 28, 20, 9, 6],\n",
       " 'Condition 2': [2897, 13, 5, 4, 3, 2, 1, 1],\n",
       " 'Foundation': [1306, 1244, 311, 49, 11, 5],\n",
       " 'Heating': [2881, 27, 9, 6, 2, 1],\n",
       " 'House Style': [1479, 871, 314, 128, 83, 24, 19, 8],\n",
       " 'Land Contour': [2631, 120, 115, 60],\n",
       " 'Lot Config': [2137, 510, 180, 85, 14],\n",
       " 'MS Zoning': [2269, 462, 139, 27, 25, 2, 2],\n",
       " 'Roof Matl': [2883, 23, 9, 7, 1, 1, 1, 1],\n",
       " 'Roof Style': [2319, 549, 22, 20, 11, 5],\n",
       " 'Street': [2914, 12]}"
      ]
     },
     "execution_count": 84,
     "metadata": {},
     "output_type": "execute_result"
    }
   ],
   "source": [
    "col_value_dist ={}\n",
    "for col in current_categorical_cols:\n",
    "    col_value_dist[col] =list(transformed_data[col].value_counts())\n",
    "col_value_dist"
   ]
  },
  {
   "cell_type": "code",
   "execution_count": 85,
   "metadata": {
    "collapsed": true
   },
   "outputs": [],
   "source": [
    "#find low variance cols \n",
    "#(if a value has more than 95% frequency)\n",
    "low_variance_cols = []\n",
    "for col in col_value_dist:\n",
    "    if col_value_dist[col][0]/sum(col_value_dist[col])>0.90:\n",
    "        low_variance_cols.append(col)\n",
    "\n",
    "        "
   ]
  },
  {
   "cell_type": "code",
   "execution_count": 86,
   "metadata": {},
   "outputs": [
    {
     "name": "stdout",
     "output_type": "stream",
     "text": [
      "['Condition 2', 'Street', 'Roof Matl', 'Central Air', 'Heating']\n"
     ]
    }
   ],
   "source": [
    "print(low_variance_cols)"
   ]
  },
  {
   "cell_type": "code",
   "execution_count": 87,
   "metadata": {
    "collapsed": true
   },
   "outputs": [],
   "source": [
    "transformed_data = transformed_data.drop(low_variance_cols, axis=1)"
   ]
  },
  {
   "cell_type": "code",
   "execution_count": 88,
   "metadata": {},
   "outputs": [
    {
     "name": "stdout",
     "output_type": "stream",
     "text": [
      "<class 'pandas.core.frame.DataFrame'>\n",
      "Int64Index: 2926 entries, 0 to 2929\n",
      "Data columns (total 31 columns):\n",
      "MS Zoning              2926 non-null object\n",
      "Lot Shape              2926 non-null object\n",
      "Land Contour           2926 non-null object\n",
      "Utilities              2926 non-null object\n",
      "Lot Config             2926 non-null object\n",
      "Land Slope             2926 non-null object\n",
      "Condition 1            2926 non-null object\n",
      "Bldg Type              2926 non-null object\n",
      "House Style            2926 non-null object\n",
      "Overall Qual           2926 non-null int64\n",
      "Roof Style             2926 non-null object\n",
      "Mas Vnr Area           2926 non-null float64\n",
      "Exter Qual             2926 non-null object\n",
      "Exter Cond             2926 non-null object\n",
      "Foundation             2926 non-null object\n",
      "BsmtFin SF 1           2926 non-null float64\n",
      "Total Bsmt SF          2926 non-null float64\n",
      "Heating QC             2926 non-null object\n",
      "1st Flr SF             2926 non-null int64\n",
      "Gr Liv Area            2926 non-null int64\n",
      "Full Bath              2926 non-null int64\n",
      "Kitchen Qual           2926 non-null object\n",
      "TotRms AbvGrd          2926 non-null int64\n",
      "Functional             2926 non-null object\n",
      "Fireplaces             2926 non-null int64\n",
      "Garage Cars            2926 non-null float64\n",
      "Garage Area            2926 non-null float64\n",
      "Paved Drive            2926 non-null object\n",
      "SalePrice              2926 non-null int64\n",
      "Years_since_built      2926 non-null int64\n",
      "Years_since_remodel    2926 non-null int64\n",
      "dtypes: float64(5), int64(9), object(17)\n",
      "memory usage: 731.5+ KB\n"
     ]
    }
   ],
   "source": [
    "transformed_data.info()"
   ]
  },
  {
   "cell_type": "code",
   "execution_count": 89,
   "metadata": {},
   "outputs": [
    {
     "data": {
      "text/plain": [
       "['MS Zoning',\n",
       " 'Land Contour',\n",
       " 'Lot Config',\n",
       " 'Condition 1',\n",
       " 'Bldg Type',\n",
       " 'House Style',\n",
       " 'Roof Style',\n",
       " 'Foundation']"
      ]
     },
     "execution_count": 89,
     "metadata": {},
     "output_type": "execute_result"
    }
   ],
   "source": [
    "current_categorical_cols = [col for col in current_categorical_cols if col not in low_variance_cols]\n",
    "current_categorical_cols"
   ]
  },
  {
   "cell_type": "markdown",
   "metadata": {},
   "source": [
    "Which columns are currently numerical but need to be encoded as categorical instead (because the numbers don't have any semantic meaning)?\n"
   ]
  },
  {
   "cell_type": "code",
   "execution_count": 90,
   "metadata": {},
   "outputs": [
    {
     "data": {
      "text/plain": [
       "['Overall Qual',\n",
       " 'Mas Vnr Area',\n",
       " 'BsmtFin SF 1',\n",
       " 'Total Bsmt SF',\n",
       " '1st Flr SF',\n",
       " 'Gr Liv Area',\n",
       " 'Full Bath',\n",
       " 'TotRms AbvGrd',\n",
       " 'Fireplaces',\n",
       " 'Garage Cars',\n",
       " 'Garage Area',\n",
       " 'SalePrice',\n",
       " 'Years_since_built',\n",
       " 'Years_since_remodel']"
      ]
     },
     "execution_count": 90,
     "metadata": {},
     "output_type": "execute_result"
    }
   ],
   "source": [
    "#What are the current numeric columns?\n",
    "current_numeric_cols = transformed_data.select_dtypes(include = ['integer', 'float']).columns\n",
    "list(current_numeric_cols)"
   ]
  },
  {
   "cell_type": "code",
   "execution_count": 91,
   "metadata": {
    "collapsed": true
   },
   "outputs": [],
   "source": [
    "current_numeric_to_nominal_cols = 'Overall Qual'"
   ]
  },
  {
   "cell_type": "code",
   "execution_count": 92,
   "metadata": {},
   "outputs": [],
   "source": [
    "text_cols_to_be_category = transformed_data.select_dtypes(include = ['object']).columns\n",
    "text_cols_to_be_category = list(text_cols_to_be_category)"
   ]
  },
  {
   "cell_type": "code",
   "execution_count": 93,
   "metadata": {},
   "outputs": [
    {
     "data": {
      "text/plain": [
       "['MS Zoning',\n",
       " 'Lot Shape',\n",
       " 'Land Contour',\n",
       " 'Utilities',\n",
       " 'Lot Config',\n",
       " 'Land Slope',\n",
       " 'Condition 1',\n",
       " 'Bldg Type',\n",
       " 'House Style',\n",
       " 'Roof Style',\n",
       " 'Exter Qual',\n",
       " 'Exter Cond',\n",
       " 'Foundation',\n",
       " 'Heating QC',\n",
       " 'Kitchen Qual',\n",
       " 'Functional',\n",
       " 'Paved Drive',\n",
       " 'Overall Qual']"
      ]
     },
     "execution_count": 93,
     "metadata": {},
     "output_type": "execute_result"
    }
   ],
   "source": [
    "#Add 'Overall Cond' \n",
    "text_cols_to_be_category.append(current_numeric_to_nominal_cols)\n",
    "text_cols_to_be_category"
   ]
  },
  {
   "cell_type": "code",
   "execution_count": 94,
   "metadata": {},
   "outputs": [
    {
     "name": "stdout",
     "output_type": "stream",
     "text": [
      "<class 'pandas.core.frame.DataFrame'>\n",
      "Int64Index: 2926 entries, 0 to 2929\n",
      "Columns: 131 entries, MS Zoning to Paved Drive_Y\n",
      "dtypes: category(18), float64(5), int64(8), uint8(100)\n",
      "memory usage: 658.0 KB\n"
     ]
    }
   ],
   "source": [
    "#Change object to category:\n",
    "for col in text_cols_to_be_category:\n",
    "    transformed_data[col] = transformed_data[col].astype('category')\n",
    "    \n",
    "dummies = pd.get_dummies(transformed_data.select_dtypes(include=['category']))\n",
    "\n",
    "transformed_data = pd.concat([transformed_data, dummies], axis = 1)\n",
    "\n",
    "transformed_data.info()"
   ]
  },
  {
   "cell_type": "code",
   "execution_count": 95,
   "metadata": {},
   "outputs": [
    {
     "name": "stdout",
     "output_type": "stream",
     "text": [
      "<class 'pandas.core.frame.DataFrame'>\n",
      "Int64Index: 2926 entries, 0 to 2929\n",
      "Columns: 113 entries, Mas Vnr Area to Paved Drive_Y\n",
      "dtypes: float64(5), int64(8), uint8(100)\n",
      "memory usage: 605.8 KB\n"
     ]
    }
   ],
   "source": [
    "transformed_data = transformed_data.drop(text_cols_to_be_category, axis= 1)\n",
    "transformed_data.info()"
   ]
  },
  {
   "cell_type": "markdown",
   "metadata": {},
   "source": [
    "Update the logic for the select_features() function. This function should take in the new, modified train and test data frames that were returned from transform_features()\n"
   ]
  },
  {
   "cell_type": "code",
   "execution_count": 96,
   "metadata": {},
   "outputs": [
    {
     "name": "stdout",
     "output_type": "stream",
     "text": [
      "31480.6389528\n"
     ]
    }
   ],
   "source": [
    "# Update Select Features function\n",
    "def transform_features(data):\n",
    "    \n",
    "    five_percent = len(data) *0.05\n",
    "    \n",
    "    # Missing Data \n",
    "    missings = data.isnull().sum()\n",
    "    more_than_five = missings[missings > five_percent].index\n",
    "\n",
    "    # Drop > 5% missing columns\n",
    "    data = data.drop(more_than_five, axis = 1)\n",
    "    \n",
    "    #Drop the text columns having more than 1 missing row\n",
    "    text_cols = data.select_dtypes(include = ['object']).columns\n",
    "    text_cols_missing = data[text_cols].isnull().sum()\n",
    "    text_cols_to_drop = text_cols_missing[text_cols_missing >0].index\n",
    "    data = data.drop(text_cols_to_drop, axis = 1)\n",
    "    \n",
    "    #Fill the numeric columns with most common values\n",
    "    numeric_cols = data.select_dtypes(include = ['int64', 'float64']).columns\n",
    "    data[numeric_cols] = data[numeric_cols].fillna(data.median())\n",
    "    \n",
    "    #create_new_features to better capture the information\n",
    "    data['Years_until_remod'] = data['Year Remod/Add'] - data['Year Built']\n",
    "    data['Years_since_built'] = data['Yr Sold']- data['Year Built']\n",
    "    data['Years_since_remodel'] = data['Yr Sold'] - data['Year Remod/Add']\n",
    "    data = data.drop(['Year Remod/Add','Year Built'], axis = 1)\n",
    "\n",
    "\n",
    "    #Drop negative values\n",
    "    ind1 = data[(data['Years_until_remod'] <0)].index\n",
    "    data = data.drop(ind1, axis =0)\n",
    "    ind2 = data[(data['Years_since_built']) <0].index\n",
    "    data = data.drop(ind2, axis =0)\n",
    "    ind3 = data[data['Years_since_remodel']<0].index\n",
    "    data = data.drop(ind3, axis =0)\n",
    "    \n",
    "    \n",
    "    #Drop info leak and unuseful columns\n",
    "    leak_info_columns = [\"Mo Sold\", \"Yr Sold\", \n",
    "                     \"Sale Type\", \"Sale Condition\"]\n",
    "    not_useful_columns = [\"PID\", \"Order\"]\n",
    "    data = data.drop(leak_info_columns, axis =1)\n",
    "    data = data.drop(not_useful_columns, axis = 1)\n",
    "    \n",
    "    return data\n",
    "\n",
    "# Select features\n",
    "def select_features(data, coeff_treshold = 0.4, uniq_num_treshold = 10):\n",
    "    numeric_data = data.select_dtypes(include = ['integer', 'float'])\n",
    "    corrs = numeric_data.corr()\n",
    "    corrs_with_target = corrs['SalePrice'].abs().sort_values(ascending = False)\n",
    "    \n",
    "    data = data.drop(corrs_with_target[corrs_with_target<coeff_treshold].index, axis =1)\n",
    "    all_categorical_cols = [\"PID\", \"MS SubClass\", \"MS Zoning\", \n",
    "                            \"Street\", \"Alley\", \"Land Contour\", \n",
    "                            \"Lot Config\", \"Neighborhood\", \n",
    "                    \"Condition 1\", \"Condition 2\", \"Bldg Type\", \"House Style\", \"Roof Style\", \"Roof Matl\", \"Exterior 1st\", \n",
    "                    \"Exterior 2nd\", \"Mas Vnr Type\", \"Foundation\", \"Heating\", \"Central Air\", \"Garage Type\", \n",
    "                    \"Misc Feature\", \"Sale Type\", \"Sale Condition\"]\n",
    "    \n",
    "    current_categorical_cols = []\n",
    "    for col in all_categorical_cols:\n",
    "        if col in data.columns:\n",
    "            current_categorical_cols.append(col)\n",
    "            \n",
    "    unique_counts_dict = {}\n",
    "    for col in current_categorical_cols:\n",
    "        unique_counts_dict[col]=len(data[col].value_counts())\n",
    "        \n",
    "    non_uniq_cols = [col for col in unique_counts_dict if unique_counts_dict[col] > uniq_num_treshold]\n",
    "    \n",
    "    data = data.drop(non_uniq_cols, axis =1)\n",
    "    \n",
    "    current_categorical_cols = [col for col in current_categorical_cols if col not in non_uniq_cols]\n",
    "    \n",
    "    col_value_dist ={}\n",
    "    for col in current_categorical_cols:\n",
    "        col_value_dist[col] =list(data[col].value_counts())\n",
    "\n",
    "\n",
    "    low_variance_cols = []\n",
    "    for col in col_value_dist:\n",
    "        if col_value_dist[col][0]/sum(col_value_dist[col])>0.90:\n",
    "            low_variance_cols.append(col)\n",
    "\n",
    "    data = data.drop(low_variance_cols, axis=1)\n",
    "    \n",
    "    current_categorical_cols = [col for col in current_categorical_cols if col not in low_variance_cols]\n",
    "\n",
    "    current_numeric_cols = data.select_dtypes(include = ['integer', 'float']).columns\n",
    "\n",
    "    current_numeric_to_nominal_cols = 'Overall Qual'\n",
    "    \n",
    "    text_cols_to_be_category = data.select_dtypes(include = ['object']).columns\n",
    "    text_cols_to_be_category = list(text_cols_to_be_category)\n",
    "    text_cols_to_be_category.append(current_numeric_to_nominal_cols)\n",
    "\n",
    "    \n",
    "    for col in text_cols_to_be_category:\n",
    "        data[col] = data[col].astype('category')\n",
    "    \n",
    "    dummies = pd.get_dummies(data.select_dtypes(include=['category']))\n",
    "    data = pd.concat([data, dummies], axis = 1)\n",
    "    \n",
    "    data = data.drop(text_cols_to_be_category, axis= 1)\n",
    "\n",
    "    \n",
    "    return data\n",
    "\n",
    "# Train and test LR model\n",
    "def train_and_test(data):\n",
    "    train = data[:1460]\n",
    "    test =  data[1460:]\n",
    "    \n",
    "    features = train.select_dtypes(include=['integer', 'float']).columns \n",
    "    features = features.drop('SalePrice')\n",
    "    \n",
    "    Lr = LinearRegression()\n",
    "    Lr.fit(train[features], train['SalePrice'])\n",
    "    prediction = Lr.predict(test[features])\n",
    "    RMSE = mean_squared_error(prediction, test['SalePrice'])**0.5\n",
    "    return RMSE\n",
    "\n",
    "# Test the model for the dataset\n",
    "data = pd.read_csv('AmesHousing.tsv', sep = '\\t')\n",
    "transformed_data = transform_features(data)\n",
    "features_selected = select_features(transformed_data)\n",
    "Rmse = train_and_test(features_selected)\n",
    "print(Rmse)\n",
    "\n"
   ]
  },
  {
   "cell_type": "markdown",
   "metadata": {},
   "source": [
    "# Cross Validation"
   ]
  },
  {
   "cell_type": "markdown",
   "metadata": {},
   "source": [
    "Now for the final part of the pipeline, training and testing. When iterating on different features, using simple validation is a good idea. Let's add a parameter named k that controls the type of cross validation that occurs."
   ]
  },
  {
   "cell_type": "code",
   "execution_count": 105,
   "metadata": {},
   "outputs": [
    {
     "name": "stdout",
     "output_type": "stream",
     "text": [
      "28098.7622069\n"
     ]
    }
   ],
   "source": [
    "# Update test_train function\n",
    "def transform_features(data):\n",
    "    \n",
    "    five_percent = len(data) *0.05\n",
    "    \n",
    "    # Missing Data \n",
    "    missings = data.isnull().sum()\n",
    "    more_than_five = missings[missings > five_percent].index\n",
    "\n",
    "    # Drop > 5% missing columns\n",
    "    data = data.drop(more_than_five, axis = 1)\n",
    "    \n",
    "    #Drop the text columns having more than 1 missing row\n",
    "    text_cols = data.select_dtypes(include = ['object']).columns\n",
    "    text_cols_missing = data[text_cols].isnull().sum()\n",
    "    text_cols_to_drop = text_cols_missing[text_cols_missing >0].index\n",
    "    data = data.drop(text_cols_to_drop, axis = 1)\n",
    "    \n",
    "    #Fill the numeric columns with most common values\n",
    "    numeric_cols = data.select_dtypes(include = ['int64', 'float64']).columns\n",
    "    data[numeric_cols] = data[numeric_cols].fillna(data.median())\n",
    "    \n",
    "    #create_new_features to better capture the information\n",
    "    data['Years_until_remod'] = data['Year Remod/Add'] - data['Year Built']\n",
    "    data['Years_since_built'] = data['Yr Sold']- data['Year Built']\n",
    "    data['Years_since_remodel'] = data['Yr Sold'] - data['Year Remod/Add']\n",
    "    data = data.drop(['Year Remod/Add','Year Built'], axis = 1)\n",
    "\n",
    "\n",
    "    #Drop negative values\n",
    "    ind1 = data[(data['Years_until_remod'] <0)].index\n",
    "    data = data.drop(ind1, axis =0)\n",
    "    ind2 = data[(data['Years_since_built']) <0].index\n",
    "    data = data.drop(ind2, axis =0)\n",
    "    ind3 = data[data['Years_since_remodel']<0].index\n",
    "    data = data.drop(ind3, axis =0)\n",
    "    \n",
    "    \n",
    "    #Drop info leak and unuseful columns\n",
    "    leak_info_columns = [\"Mo Sold\", \"Yr Sold\", \n",
    "                     \"Sale Type\", \"Sale Condition\"]\n",
    "    not_useful_columns = [\"PID\", \"Order\"]\n",
    "    data = data.drop(leak_info_columns, axis =1)\n",
    "    data = data.drop(not_useful_columns, axis = 1)\n",
    "    \n",
    "    return data\n",
    "\n",
    "# Select features\n",
    "def select_features(data, coeff_treshold = 0.4, uniq_num_treshold = 10):\n",
    "    numeric_data = data.select_dtypes(include = ['integer', 'float'])\n",
    "    corrs = numeric_data.corr()\n",
    "    corrs_with_target = corrs['SalePrice'].abs().sort_values(ascending = False)\n",
    "    \n",
    "    data = data.drop(corrs_with_target[corrs_with_target<coeff_treshold].index, axis =1)\n",
    "    all_categorical_cols = [\"PID\", \"MS SubClass\", \"MS Zoning\", \n",
    "                            \"Street\", \"Alley\", \"Land Contour\", \n",
    "                            \"Lot Config\", \"Neighborhood\", \n",
    "                    \"Condition 1\", \"Condition 2\", \"Bldg Type\", \"House Style\", \"Roof Style\", \"Roof Matl\", \"Exterior 1st\", \n",
    "                    \"Exterior 2nd\", \"Mas Vnr Type\", \"Foundation\", \"Heating\", \"Central Air\", \"Garage Type\", \n",
    "                    \"Misc Feature\", \"Sale Type\", \"Sale Condition\"]\n",
    "    \n",
    "    current_categorical_cols = []\n",
    "    for col in all_categorical_cols:\n",
    "        if col in data.columns:\n",
    "            current_categorical_cols.append(col)\n",
    "            \n",
    "    unique_counts_dict = {}\n",
    "    for col in current_categorical_cols:\n",
    "        unique_counts_dict[col]=len(data[col].value_counts())\n",
    "        \n",
    "    non_uniq_cols = [col for col in unique_counts_dict if unique_counts_dict[col] > uniq_num_treshold]\n",
    "    \n",
    "    data = data.drop(non_uniq_cols, axis =1)\n",
    "    \n",
    "    current_categorical_cols = [col for col in current_categorical_cols if col not in non_uniq_cols]\n",
    "    \n",
    "    col_value_dist ={}\n",
    "    for col in current_categorical_cols:\n",
    "        col_value_dist[col] =list(data[col].value_counts())\n",
    "\n",
    "\n",
    "    low_variance_cols = []\n",
    "    for col in col_value_dist:\n",
    "        if col_value_dist[col][0]/sum(col_value_dist[col])>0.90:\n",
    "            low_variance_cols.append(col)\n",
    "\n",
    "    data = data.drop(low_variance_cols, axis=1)\n",
    "    \n",
    "    current_categorical_cols = [col for col in current_categorical_cols if col not in low_variance_cols]\n",
    "\n",
    "    current_numeric_cols = data.select_dtypes(include = ['integer', 'float']).columns\n",
    "\n",
    "    current_numeric_to_nominal_cols = 'Overall Qual'\n",
    "    \n",
    "    text_cols_to_be_category = data.select_dtypes(include = ['object']).columns\n",
    "    text_cols_to_be_category = list(text_cols_to_be_category)\n",
    "    text_cols_to_be_category.append(current_numeric_to_nominal_cols)\n",
    "\n",
    "    \n",
    "    for col in text_cols_to_be_category:\n",
    "        data[col] = data[col].astype('category')\n",
    "    \n",
    "    dummies = pd.get_dummies(data.select_dtypes(include=['category']))\n",
    "    data = pd.concat([data, dummies], axis = 1)\n",
    "    \n",
    "    data = data.drop(text_cols_to_be_category, axis= 1)\n",
    "\n",
    "    \n",
    "    return data\n",
    "\n",
    "# Train and test LR model\n",
    "def train_and_test(data, k=0):\n",
    "    \n",
    "    if k == 0:\n",
    "        train = data[:1460]\n",
    "        test =  data[1460:]\n",
    "\n",
    "        features = train.select_dtypes(include=['integer', 'float']).columns \n",
    "        features = features.drop('SalePrice')\n",
    "\n",
    "        Lr = LinearRegression()\n",
    "        Lr.fit(train[features], train['SalePrice'])\n",
    "        prediction = Lr.predict(test[features])\n",
    "        RMSE = mean_squared_error(prediction, test['SalePrice'])**0.5\n",
    "    \n",
    "        return RMSE\n",
    "\n",
    "    if k == 1:\n",
    "        shuffled_data = data.sample(frac=1, )\n",
    "        \n",
    "        fold_one = data[:1460]\n",
    "        fold_two = data[1460:]\n",
    "        \n",
    "                \n",
    "        features = fold_one.select_dtypes(include=['integer', 'float']).columns \n",
    "        features = features.drop('SalePrice')\n",
    "        \n",
    "        Lr = LinearRegression()\n",
    "        Lr.fit(fold_one[features], fold_one['SalePrice'])\n",
    "        prediction = Lr.predict(fold_two[features])\n",
    "        RMSE_1 = mean_squared_error(prediction, fold_two['SalePrice'])**0.5\n",
    "                \n",
    "        features = fold_two.select_dtypes(include=['integer', 'float']).columns \n",
    "        features = features.drop('SalePrice')\n",
    "        \n",
    "        Lr = LinearRegression()\n",
    "        Lr.fit(fold_two[features], fold_two['SalePrice'])\n",
    "        prediction = Lr.predict(fold_one[features])\n",
    "        RMSE_2 = mean_squared_error(prediction, fold_one['SalePrice'])**0.5\n",
    "    \n",
    "        return (RMSE_1 + RMSE_2)/2\n",
    "    \n",
    "    else:\n",
    "        features = data.select_dtypes(include = ['integer', 'float']).columns\n",
    "        features = features.drop('SalePrice')\n",
    "\n",
    "        kf = KFold(k, shuffle=True, random_state=1)\n",
    "        Lr = LinearRegression()\n",
    "        mses = cross_val_score(Lr, data[features], data['SalePrice'], scoring=\"neg_mean_squared_error\", cv=kf)\n",
    "        rmses = np.sqrt(np.absolute(mses))\n",
    "        avg_rmse = np.mean(rmses)\n",
    "        \n",
    "        return avg_rmse\n",
    "    \n",
    "\n",
    "\n",
    "\n",
    "\n",
    "# Test the model for the dataset\n",
    "data = pd.read_csv('AmesHousing.tsv', sep = '\\t')\n",
    "transformed_data = transform_features(data)\n",
    "features_selected = select_features(transformed_data)\n",
    "Rmse = train_and_test(features_selected, k=4)\n",
    "print(Rmse)\n",
    "\n"
   ]
  },
  {
   "cell_type": "markdown",
   "metadata": {
    "collapsed": true
   },
   "source": [
    "# Final Pipeline"
   ]
  },
  {
   "cell_type": "code",
   "execution_count": 121,
   "metadata": {},
   "outputs": [
    {
     "data": {
      "text/plain": [
       "'Best coef_treshold is 0.2 and the best unique_num is: 10. The best RMSE value is: 27481.5857687'"
      ]
     },
     "execution_count": 121,
     "metadata": {},
     "output_type": "execute_result"
    }
   ],
   "source": [
    "\n",
    "def House_Price_Prediction_using_LR(data):\n",
    "    \n",
    "\n",
    "    def transform_features(data):\n",
    "\n",
    "        five_percent = len(data) *0.05\n",
    "\n",
    "        # Missing Data \n",
    "        missings = data.isnull().sum()\n",
    "        more_than_five = missings[missings > five_percent].index\n",
    "\n",
    "        # Drop > 5% missing columns\n",
    "        data = data.drop(more_than_five, axis = 1)\n",
    "\n",
    "        #Drop the text columns having more than 1 missing row\n",
    "        text_cols = data.select_dtypes(include = ['object']).columns\n",
    "        text_cols_missing = data[text_cols].isnull().sum()\n",
    "        text_cols_to_drop = text_cols_missing[text_cols_missing >0].index\n",
    "        data = data.drop(text_cols_to_drop, axis = 1)\n",
    "\n",
    "        #Fill the numeric columns with most common values\n",
    "        numeric_cols = data.select_dtypes(include = ['int64', 'float64']).columns\n",
    "        data[numeric_cols] = data[numeric_cols].fillna(data.median())\n",
    "\n",
    "        #create_new_features to better capture the information\n",
    "        data['Years_until_remod'] = data['Year Remod/Add'] - data['Year Built']\n",
    "        data['Years_since_built'] = data['Yr Sold']- data['Year Built']\n",
    "        data['Years_since_remodel'] = data['Yr Sold'] - data['Year Remod/Add']\n",
    "        data = data.drop(['Year Remod/Add','Year Built'], axis = 1)\n",
    "\n",
    "\n",
    "        #Drop negative values\n",
    "        ind1 = data[(data['Years_until_remod'] <0)].index\n",
    "        data = data.drop(ind1, axis =0)\n",
    "        ind2 = data[(data['Years_since_built']) <0].index\n",
    "        data = data.drop(ind2, axis =0)\n",
    "        ind3 = data[data['Years_since_remodel']<0].index\n",
    "        data = data.drop(ind3, axis =0)\n",
    "\n",
    "\n",
    "        #Drop info leak and unuseful columns\n",
    "        leak_info_columns = [\"Mo Sold\", \"Yr Sold\", \n",
    "                         \"Sale Type\", \"Sale Condition\"]\n",
    "        not_useful_columns = [\"PID\", \"Order\"]\n",
    "        data = data.drop(leak_info_columns, axis =1)\n",
    "        data = data.drop(not_useful_columns, axis = 1)\n",
    "\n",
    "        return data\n",
    "\n",
    "    # Select features\n",
    "    def select_features(data, coeff_treshold = 0.4, uniq_num_treshold = 10):\n",
    "        numeric_data = data.select_dtypes(include = ['integer', 'float'])\n",
    "        corrs = numeric_data.corr()\n",
    "        corrs_with_target = corrs['SalePrice'].abs().sort_values(ascending = False)\n",
    "\n",
    "        data = data.drop(corrs_with_target[corrs_with_target<coeff_treshold].index, axis =1)\n",
    "        all_categorical_cols = [\"PID\", \"MS SubClass\", \"MS Zoning\", \n",
    "                                \"Street\", \"Alley\", \"Land Contour\", \n",
    "                                \"Lot Config\", \"Neighborhood\", \n",
    "                        \"Condition 1\", \"Condition 2\", \"Bldg Type\", \"House Style\", \"Roof Style\", \"Roof Matl\", \"Exterior 1st\", \n",
    "                        \"Exterior 2nd\", \"Mas Vnr Type\", \"Foundation\", \"Heating\", \"Central Air\", \"Garage Type\", \n",
    "                        \"Misc Feature\", \"Sale Type\", \"Sale Condition\"]\n",
    "\n",
    "        current_categorical_cols = []\n",
    "        for col in all_categorical_cols:\n",
    "            if col in data.columns:\n",
    "                current_categorical_cols.append(col)\n",
    "\n",
    "        unique_counts_dict = {}\n",
    "        for col in current_categorical_cols:\n",
    "            unique_counts_dict[col]=len(data[col].value_counts())\n",
    "\n",
    "        non_uniq_cols = [col for col in unique_counts_dict if unique_counts_dict[col] > uniq_num_treshold]\n",
    "\n",
    "        data = data.drop(non_uniq_cols, axis =1)\n",
    "\n",
    "        current_categorical_cols = [col for col in current_categorical_cols if col not in non_uniq_cols]\n",
    "\n",
    "        col_value_dist ={}\n",
    "        for col in current_categorical_cols:\n",
    "            col_value_dist[col] =list(data[col].value_counts())\n",
    "\n",
    "\n",
    "        low_variance_cols = []\n",
    "        for col in col_value_dist:\n",
    "            if col_value_dist[col][0]/sum(col_value_dist[col])>0.90:\n",
    "                low_variance_cols.append(col)\n",
    "\n",
    "        data = data.drop(low_variance_cols, axis=1)\n",
    "\n",
    "        current_categorical_cols = [col for col in current_categorical_cols if col not in low_variance_cols]\n",
    "\n",
    "        current_numeric_cols = data.select_dtypes(include = ['integer', 'float']).columns\n",
    "\n",
    "        current_numeric_to_nominal_cols = 'Overall Qual'\n",
    "\n",
    "        text_cols_to_be_category = data.select_dtypes(include = ['object']).columns\n",
    "        text_cols_to_be_category = list(text_cols_to_be_category)\n",
    "        text_cols_to_be_category.append(current_numeric_to_nominal_cols)\n",
    "\n",
    "\n",
    "        for col in text_cols_to_be_category:\n",
    "            data[col] = data[col].astype('category')\n",
    "\n",
    "        dummies = pd.get_dummies(data.select_dtypes(include=['category']))\n",
    "        data = pd.concat([data, dummies], axis = 1)\n",
    "\n",
    "        data = data.drop(text_cols_to_be_category, axis= 1)\n",
    "\n",
    "\n",
    "        return data\n",
    "\n",
    "    # Train and test LR model\n",
    "    def train_and_test(data, k=0):\n",
    "\n",
    "        if k == 0:\n",
    "            train = data[:1460]\n",
    "            test =  data[1460:]\n",
    "\n",
    "            features = train.select_dtypes(include=['integer', 'float']).columns \n",
    "            features = features.drop('SalePrice')\n",
    "\n",
    "            Lr = LinearRegression()\n",
    "            Lr.fit(train[features], train['SalePrice'])\n",
    "            prediction = Lr.predict(test[features])\n",
    "            RMSE = mean_squared_error(prediction, test['SalePrice'])**0.5\n",
    "\n",
    "            return RMSE\n",
    "\n",
    "        if k == 1:\n",
    "            shuffled_data = data.sample(frac=1, )\n",
    "\n",
    "            fold_one = data[:1460]\n",
    "            fold_two = data[1460:]\n",
    "\n",
    "\n",
    "            features = fold_one.select_dtypes(include=['integer', 'float']).columns \n",
    "            features = features.drop('SalePrice')\n",
    "\n",
    "            Lr = LinearRegression()\n",
    "            Lr.fit(fold_one[features], fold_one['SalePrice'])\n",
    "            prediction = Lr.predict(fold_two[features])\n",
    "            RMSE_1 = mean_squared_error(prediction, fold_two['SalePrice'])**0.5\n",
    "\n",
    "            features = fold_two.select_dtypes(include=['integer', 'float']).columns \n",
    "            features = features.drop('SalePrice')\n",
    "\n",
    "            Lr = LinearRegression()\n",
    "            Lr.fit(fold_two[features], fold_two['SalePrice'])\n",
    "            prediction = Lr.predict(fold_one[features])\n",
    "            RMSE_2 = mean_squared_error(prediction, fold_one['SalePrice'])**0.5\n",
    "\n",
    "            return (RMSE_1 + RMSE_2)/2\n",
    "\n",
    "        else:\n",
    "            features = data.select_dtypes(include = ['integer', 'float']).columns\n",
    "            features = features.drop('SalePrice')\n",
    "\n",
    "            kf = KFold(k, shuffle=True, random_state=1)\n",
    "            Lr = LinearRegression()\n",
    "            mses = cross_val_score(Lr, data[features], data['SalePrice'], scoring=\"neg_mean_squared_error\", cv=kf)\n",
    "            rmses = np.sqrt(np.absolute(mses))\n",
    "            avg_rmse = np.mean(rmses)\n",
    "\n",
    "            return avg_rmse\n",
    "\n",
    "        \n",
    "    transformed_data = transform_features(data)\n",
    "    \n",
    "    coefs = [0.2, 0.3, 0.4, 0.5 , 0.6, 0.8]\n",
    "    unique_nums = [4, 8, 10, 15]\n",
    "    \n",
    "    Best_Rmse = None\n",
    "    values = None\n",
    "    Rmses = []\n",
    "    for coef in coefs:\n",
    "        for unique_num in unique_nums:\n",
    "            features_selected = select_features(transformed_data, coef, unique_num)\n",
    "            Rmse = train_and_test(features_selected, 10)\n",
    "            Rmses.append(Rmse)\n",
    "            \n",
    "            \n",
    "            if Best_Rmse is None or Rmse < Best_Rmse:\n",
    "                Best_Rmse = Rmse\n",
    "                values = coef, unique_num\n",
    "            \n",
    "    result = 'Best coef_treshold is ' + str(values[0]) + ' and the best unique_num is: ' + \\\n",
    "    str(values[1]) + '. The best RMSE value is: ' + str(Best_Rmse)\n",
    "    \n",
    "    return result\n",
    "            \n",
    "        \n",
    "\n",
    "\n",
    "data = pd.read_csv('AmesHousing.tsv', sep = '\\t')            \n",
    "House_Price_Prediction_using_LR(data)\n",
    "\n",
    "\n",
    "\n",
    "\n",
    "\n",
    "\n"
   ]
  },
  {
   "cell_type": "code",
   "execution_count": null,
   "metadata": {
    "collapsed": true
   },
   "outputs": [],
   "source": []
  }
 ],
 "metadata": {
  "anaconda-cloud": {},
  "kernelspec": {
   "display_name": "Python [conda env:py3]",
   "language": "python",
   "name": "conda-env-py3-py"
  },
  "language_info": {
   "codemirror_mode": {
    "name": "ipython",
    "version": 3
   },
   "file_extension": ".py",
   "mimetype": "text/x-python",
   "name": "python",
   "nbconvert_exporter": "python",
   "pygments_lexer": "ipython3",
   "version": "3.6.2"
  }
 },
 "nbformat": 4,
 "nbformat_minor": 2
}
